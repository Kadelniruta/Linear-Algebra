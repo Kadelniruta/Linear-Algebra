{
 "cells": [
  {
   "cell_type": "markdown",
   "metadata": {},
   "source": [
    "# Three Segments\n",
    "# ==============\n",
    "# 1. Data Structures for Algebra\n",
    "# 2. Common Tensor Operations\n",
    "# 3. Matrix Properties\n"
   ]
  },
  {
   "cell_type": "markdown",
   "metadata": {},
   "source": [
    "# Segment 1. Data Structures for Algebra\n",
    "### 1.1 What Linear Algebra is\n",
    "### 1.2 A brief History of Algebra\n",
    "### 1.3 Tensors\n",
    "### 1.4 Scalars\n",
    "### 1.5 Vectors and Vector Transposition\n",
    "### 1.6 Norms and Unit Vectors\n",
    "### 1.7 Basis, Orthogonal, and Orthonormal Vectors\n",
    "### 1.8 Arrays in NumPy\n",
    "### 1.9 Matrices\n",
    "### 1.10 Tensors in TensorFlow and PyTorch\n"
   ]
  },
  {
   "cell_type": "markdown",
   "metadata": {},
   "source": [
    "# "
   ]
  },
  {
   "cell_type": "markdown",
   "metadata": {},
   "source": [
    "\n",
    "\n",
    "### 1.1 What is Linear Algebra\n",
    "## Linear Algebra is arthmetics that includes non-numerical entities like x:  For Example : 2x + 5 = 25\n",
    "## If it has an exponential term such as x^2 and square root of x, it isn't linear algebra. For Example: 2x^2 + 5 = 25\n",
    "\n",
    "## It also \"Sloving for unknowns within system of linear equations\".\n",
    "\n",
    "\n",
    " \n",
    " "
   ]
  },
  {
   "cell_type": "markdown",
   "metadata": {},
   "source": [
    "## In a given system of equations:\n",
    "#### 1. Could be many equations\n",
    "#### 2. Could be many unknowns in each equation"
   ]
  },
  {
   "cell_type": "markdown",
   "metadata": {},
   "source": [
    "## 1.2 A brief history of Algebra\n",
    "### Contemporary Application \n",
    "##### 1. Sloving for unknowns in ML algos, including deep learning\n",
    "##### 2. Reducing dimensionality (e.g., principal component analysis)\n",
    "##### 3. Ranking Results\n",
    "##### 4. Recommenders\n",
    "##### 5. Natural Language Processing i.e. Topic modeling"
   ]
  },
  {
   "cell_type": "markdown",
   "metadata": {},
   "source": [
    "# 1.3 Tensors"
   ]
  },
  {
   "cell_type": "markdown",
   "metadata": {},
   "source": [
    "#### ML generalization of vectors and matrices to any number of dimensions\n",
    "#### Dimensions = Mathematical Name = Description\n",
    "####     0      =      Scalar       = magnitude only\n",
    "####     1      =      Vector       = array\n",
    "####     2      =      Matrix       = flat table e.g..square\n",
    "####     3      =      3-Tensor     = 3D table e.g. cube\n",
    "####     n      =       n-tensor    = higher dimensional ( difficult to picture with our feeble human brain)\n",
    "\n"
   ]
  },
  {
   "cell_type": "markdown",
   "metadata": {},
   "source": [
    "# 1.4 Saclars \n",
    "#### characterized by having no dimensions,\n",
    "#### they are a single numeric value,\n",
    "#### they are typically denoted in lowercase, italics, e.g.: x, s\n",
    "#### should by typed, like all other tensors: e.g.: int, float32"
   ]
  },
  {
   "cell_type": "markdown",
   "metadata": {},
   "source": [
    "## 1.5 Vectors and Vector Transposition\n",
    "\n",
    "### Vector\n",
    "##### . One-dimensional array of numbers\n",
    "##### . Denoted in lowercase, italics, bold, e.g.:x\n",
    "##### . Arranged in an order, so element cab be accessed by its index\n",
    "#####   . Element are scalars so not bold, e.g., second element of x is x2. [x1, x2]= [12,4]\n",
    "##### . Representing a point in space\n",
    "#####   . Vector of length two represents location in 2D matrix\n",
    "#####   . Vector of length three represents location in 3D cube\n",
    "\n",
    "### Vector Transposition\n",
    "##### . Swapping rows and columns\n",
    "\n",
    "\n",
    "\n"
   ]
  }
 ],
 "metadata": {
  "kernelspec": {
   "display_name": "base",
   "language": "python",
   "name": "python3"
  },
  "language_info": {
   "name": "python",
   "version": "3.11.7"
  }
 },
 "nbformat": 4,
 "nbformat_minor": 2
}
